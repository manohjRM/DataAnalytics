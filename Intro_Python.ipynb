{
 "cells": [
  {
   "cell_type": "markdown",
   "metadata": {
    "id": "NHEOCwHjaXoi"
   },
   "source": [
    "Create a list containing squares of numbers from 1 to 10"
   ]
  },
  {
   "cell_type": "code",
   "execution_count": null,
   "metadata": {
    "colab": {
     "base_uri": "https://localhost:8080/"
    },
    "id": "VvGnX9FiUU5n",
    "outputId": "6ccc62cf-3fa8-4868-b3d5-9f4e0bc11980"
   },
   "outputs": [
    {
     "name": "stdout",
     "output_type": "stream",
     "text": [
      "[1, 4, 9, 16, 25, 36, 49, 64, 81, 100]\n"
     ]
    }
   ],
   "source": [
    "listx=[]\n",
    "for a in range(1,11):\n",
    "  num=a*a\n",
    "  listx.append(num)\n",
    "print(listx)"
   ]
  },
  {
   "cell_type": "code",
   "execution_count": null,
   "metadata": {
    "colab": {
     "base_uri": "https://localhost:8080/"
    },
    "id": "juYWD82YV7Et",
    "outputId": "c67871a8-37e3-47dd-85f8-cb8d9c1a98a4"
   },
   "outputs": [
    {
     "name": "stdout",
     "output_type": "stream",
     "text": [
      "[1, 4, 9, 16, 25, 36, 49, 64, 81, 100]\n"
     ]
    }
   ],
   "source": [
    "listx2 = [a**2 for a in range(1,11)]\n",
    "print(listx2)"
   ]
  },
  {
   "cell_type": "markdown",
   "metadata": {
    "id": "9ykfywS3aZ5R"
   },
   "source": [
    " Function to check if year number is a leap year"
   ]
  },
  {
   "cell_type": "code",
   "execution_count": null,
   "metadata": {
    "colab": {
     "base_uri": "https://localhost:8080/"
    },
    "id": "aEjV1IatYw83",
    "outputId": "09b60001-ab87-44b0-aea0-d4aa833b247d"
   },
   "outputs": [
    {
     "name": "stdout",
     "output_type": "stream",
     "text": [
      "Enter the year: 2016\n",
      "2016 is Leap Year\n"
     ]
    }
   ],
   "source": [
    "def IsLeapYear(x):\n",
    "  if x % 4 == 0:\n",
    "    print(x,\"is Leap Year\")\n",
    "  else:\n",
    "    print(x,\"is Not a Leap Year\")\n",
    "num = int(input(\"Enter the year: \"))\n",
    "IsLeapYear(num)"
   ]
  },
  {
   "cell_type": "markdown",
   "metadata": {
    "id": "RM-XKVjRegmU"
   },
   "source": [
    "Function to take an array and return another array that contains the members of first array that are even"
   ]
  },
  {
   "cell_type": "code",
   "execution_count": null,
   "metadata": {
    "colab": {
     "base_uri": "https://localhost:8080/"
    },
    "id": "t8fHXvF2aOwO",
    "outputId": "9e72e464-fbc2-4c10-8934-6551950d472e"
   },
   "outputs": [
    {
     "name": "stdout",
     "output_type": "stream",
     "text": [
      "[10, 64, 6, 31, 5, 61]\n",
      "[10, 64, 6]\n"
     ]
    }
   ],
   "source": [
    "def firstEven(x):\n",
    "  arr2=[]\n",
    "  print(x)\n",
    "  for a in x:\n",
    "    if a%2 == 0:\n",
    "      arr2.append(a)\n",
    "  return arr2\n",
    "\n",
    "arr = [10,64,6,31,5,61]\n",
    "newArr = firstEven(arr)\n",
    "print(newArr)"
   ]
  },
  {
   "cell_type": "markdown",
   "metadata": {
    "id": "UDdA5iAOftq3"
   },
   "source": [
    "Function that takes 2 arrays and prints the members of first array that are present of second array"
   ]
  },
  {
   "cell_type": "code",
   "execution_count": null,
   "metadata": {
    "colab": {
     "base_uri": "https://localhost:8080/"
    },
    "id": "stoZ7nbxeotS",
    "outputId": "0725ecdc-d798-4a32-f32f-ef8545ad4e3e"
   },
   "outputs": [
    {
     "name": "stdout",
     "output_type": "stream",
     "text": [
      "[5, 6]\n"
     ]
    }
   ],
   "source": [
    "def checkArray(x,y):\n",
    "  arr3=[]\n",
    "  for a in x:\n",
    "    for b in y:\n",
    "      if b is a:\n",
    "        arr3.append(a)\n",
    "  print(arr3)\n",
    "arr1 = [1,2,3,4,5,6]\n",
    "arr2 = [10,9,8,7,6,5]\n",
    "check = checkArray(arr1, arr2)"
   ]
  }
 ],
 "metadata": {
  "colab": {
   "collapsed_sections": [],
   "name": "IntroPythonAssignment1.ipynb",
   "provenance": []
  },
  "kernelspec": {
   "display_name": "Python 3",
   "language": "python",
   "name": "python3"
  },
  "language_info": {
   "codemirror_mode": {
    "name": "ipython",
    "version": 3
   },
   "file_extension": ".py",
   "mimetype": "text/x-python",
   "name": "python",
   "nbconvert_exporter": "python",
   "pygments_lexer": "ipython3",
   "version": "3.8.8"
  }
 },
 "nbformat": 4,
 "nbformat_minor": 1
}
