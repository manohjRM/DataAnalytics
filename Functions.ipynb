{
 "cells": [
  {
   "cell_type": "code",
   "execution_count": 4,
   "id": "e5ed6117",
   "metadata": {},
   "outputs": [
    {
     "name": "stdout",
     "output_type": "stream",
     "text": [
      "Enter the number: 10\n",
      "The factorial is:  3628800\n"
     ]
    }
   ],
   "source": [
    "def factor(num):\n",
    "    factorial = 1\n",
    "    if num >=1:\n",
    "        for i in range(1,num+1):\n",
    "            factorial = factorial * i\n",
    "    return factorial\n",
    "n=int(input(\"Enter the number: \"))\n",
    "print(\"The factorial is: \",factor(n))"
   ]
  },
  {
   "cell_type": "code",
   "execution_count": 14,
   "id": "c195a730",
   "metadata": {},
   "outputs": [
    {
     "name": "stdout",
     "output_type": "stream",
     "text": [
      "The string is containing the letter's'\n"
     ]
    }
   ],
   "source": [
    "def check_string(check_s):\n",
    "\n",
    "    for i in check_s:\n",
    "        if i == 's':\n",
    "            x = True\n",
    "    if x:\n",
    "        print(\"The string is containing the letter's'\")\n",
    "    else:\n",
    "        print(\"The string doesn't containing the letter's'\")\n",
    "check_string(\"strong\")"
   ]
  },
  {
   "cell_type": "code",
   "execution_count": 33,
   "id": "027aceb2",
   "metadata": {},
   "outputs": [
    {
     "name": "stdout",
     "output_type": "stream",
     "text": [
      "Enter a value: 10\n",
      "10\n",
      "10\n"
     ]
    }
   ],
   "source": [
    "class student:\n",
    "    def fun1(self,a):\n",
    "        self.a = a\n",
    "        return self.a\n",
    "    \n",
    "    def message(self):\n",
    "        print(self.a)\n",
    "\n",
    "n = int(input(\"Enter a value: \"))\n",
    "s1 = student()\n",
    "print(s1.fun1(n))\n",
    "s1.message()\n",
    "        "
   ]
  },
  {
   "cell_type": "code",
   "execution_count": 37,
   "id": "3260d6f5",
   "metadata": {},
   "outputs": [
    {
     "name": "stdout",
     "output_type": "stream",
     "text": [
      "25\n"
     ]
    }
   ],
   "source": [
    "double_num = lambda a : a*a\n",
    "print(double_num(5))"
   ]
  },
  {
   "cell_type": "code",
   "execution_count": 57,
   "id": "840c5a95",
   "metadata": {},
   "outputs": [
    {
     "name": "stdout",
     "output_type": "stream",
     "text": [
      "Enter the string: 101\n",
      "Given string is palindrome\n"
     ]
    }
   ],
   "source": [
    "strg = input(\"Enter the string: \")\n",
    "strg1 = strg[::-1]\n",
    "if strg == strg1:\n",
    "    print(\"Given string is palindrome\")\n",
    "else:\n",
    "    print(\"Given string is not a palindrome\")"
   ]
  },
  {
   "cell_type": "code",
   "execution_count": 63,
   "id": "1c6851dd",
   "metadata": {},
   "outputs": [
    {
     "name": "stdout",
     "output_type": "stream",
     "text": [
      "Given string is palindrome:  mom\n",
      "Given string is palindrome:  DAD\n",
      "Given string is not a palindrome:  win\n"
     ]
    }
   ],
   "source": [
    "def palind(strn):\n",
    "    if strn == strn[::-1]:\n",
    "        print(\"Given string is palindrome: \",strn)\n",
    "    else:\n",
    "        print(\"Given string is not a palindrome: \",strn)\n",
    "    \n",
    "palind(\"mom\")\n",
    "palind(\"DAD\")\n",
    "palind(\"win\")"
   ]
  }
 ],
 "metadata": {
  "kernelspec": {
   "display_name": "Python 3",
   "language": "python",
   "name": "python3"
  },
  "language_info": {
   "codemirror_mode": {
    "name": "ipython",
    "version": 3
   },
   "file_extension": ".py",
   "mimetype": "text/x-python",
   "name": "python",
   "nbconvert_exporter": "python",
   "pygments_lexer": "ipython3",
   "version": "3.8.8"
  }
 },
 "nbformat": 4,
 "nbformat_minor": 5
}
