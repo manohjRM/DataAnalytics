{
 "cells": [
  {
   "cell_type": "markdown",
   "id": "17fca51e",
   "metadata": {},
   "source": [
    "# With the help of try and inbuilt exception, display the exception."
   ]
  },
  {
   "cell_type": "code",
   "execution_count": 21,
   "id": "ba6fea3c",
   "metadata": {},
   "outputs": [
    {
     "name": "stdout",
     "output_type": "stream",
     "text": [
      "name 'none' is not defined\n"
     ]
    }
   ],
   "source": [
    "try:\n",
    "    none\n",
    "except Exception as e:\n",
    "    print(e)"
   ]
  },
  {
   "cell_type": "markdown",
   "id": "d730bc74",
   "metadata": {},
   "source": [
    "# Take two user inputs and pass those input variables in a try block. If the user input is 0, then throw the ZeroDivisionError exception."
   ]
  },
  {
   "cell_type": "code",
   "execution_count": 22,
   "id": "3bbaf729",
   "metadata": {},
   "outputs": [
    {
     "name": "stdout",
     "output_type": "stream",
     "text": [
      "Enter the value: 0\n",
      "Enter another value: 3\n",
      "ZeroDivisonError\n"
     ]
    }
   ],
   "source": [
    "us1 = int(input(\"Enter the value: \"))\n",
    "us2 = int(input(\"Enter another value: \"))\n",
    "\n",
    "try:\n",
    "    if us1 == 0 or us2 == 0:\n",
    "        raise Exception(\"ZeroDivisonError\")\n",
    "except Exception as e:\n",
    "    print(e)"
   ]
  },
  {
   "cell_type": "markdown",
   "id": "2f6812a4",
   "metadata": {},
   "source": [
    "# Import math package and with the help of math package, print – math.exp(50000). Now use the inbuilt OverflowError exception on the math.exp(), and print the exception."
   ]
  },
  {
   "cell_type": "code",
   "execution_count": 23,
   "id": "9e6da581",
   "metadata": {},
   "outputs": [
    {
     "ename": "OverflowError",
     "evalue": "math range error",
     "output_type": "error",
     "traceback": [
      "\u001b[1;31m---------------------------------------------------------------------------\u001b[0m",
      "\u001b[1;31mOverflowError\u001b[0m                             Traceback (most recent call last)",
      "\u001b[1;32m<ipython-input-23-72430bf9ba55>\u001b[0m in \u001b[0;36m<module>\u001b[1;34m\u001b[0m\n\u001b[0;32m      1\u001b[0m \u001b[1;32mimport\u001b[0m \u001b[0mmath\u001b[0m\u001b[1;33m\u001b[0m\u001b[1;33m\u001b[0m\u001b[0m\n\u001b[1;32m----> 2\u001b[1;33m \u001b[0mprint\u001b[0m\u001b[1;33m(\u001b[0m\u001b[0mmath\u001b[0m\u001b[1;33m.\u001b[0m\u001b[0mexp\u001b[0m\u001b[1;33m(\u001b[0m\u001b[1;36m50000\u001b[0m\u001b[1;33m)\u001b[0m\u001b[1;33m)\u001b[0m\u001b[1;33m\u001b[0m\u001b[1;33m\u001b[0m\u001b[0m\n\u001b[0m",
      "\u001b[1;31mOverflowError\u001b[0m: math range error"
     ]
    }
   ],
   "source": [
    "import math\n",
    "print(math.exp(50000))"
   ]
  },
  {
   "cell_type": "code",
   "execution_count": null,
   "id": "68bfdbb1",
   "metadata": {},
   "outputs": [],
   "source": [
    "import math\n",
    "try:\n",
    "    print(math.exp(50000))\n",
    "except Exception as e:\n",
    "    print(e)"
   ]
  },
  {
   "cell_type": "markdown",
   "id": "231c1d16",
   "metadata": {},
   "source": [
    "# Now install the ‘termcolor’ package in the anaconda prompt, and import that package to provide the colors to the print statement in Jupyter Notebook."
   ]
  },
  {
   "cell_type": "code",
   "execution_count": null,
   "id": "f0241442",
   "metadata": {},
   "outputs": [],
   "source": [
    "import termcolor\n",
    "\n",
    "print(termcolor.colored(\"Hello Python\",\"cyan\",\"on_blue\"))"
   ]
  },
  {
   "cell_type": "markdown",
   "id": "0604d8ef",
   "metadata": {},
   "source": [
    "# Create your own exception with the help of class and functions."
   ]
  },
  {
   "cell_type": "code",
   "execution_count": 32,
   "id": "35a333b9",
   "metadata": {},
   "outputs": [
    {
     "name": "stdout",
     "output_type": "stream",
     "text": [
      "Raised Exception\n"
     ]
    }
   ],
   "source": [
    "class MyException(Exception):\n",
    "    def __init__(self):\n",
    "        super(Exception,self).__init__()\n",
    "        self.args = (\"Raised Exception\",)\n",
    "try:\n",
    "    raise MyException()\n",
    "except MyException as e:\n",
    "    print(e)"
   ]
  },
  {
   "cell_type": "code",
   "execution_count": null,
   "id": "3468467c",
   "metadata": {},
   "outputs": [],
   "source": []
  }
 ],
 "metadata": {
  "kernelspec": {
   "display_name": "Python 3",
   "language": "python",
   "name": "python3"
  },
  "language_info": {
   "codemirror_mode": {
    "name": "ipython",
    "version": 3
   },
   "file_extension": ".py",
   "mimetype": "text/x-python",
   "name": "python",
   "nbconvert_exporter": "python",
   "pygments_lexer": "ipython3",
   "version": "3.8.8"
  }
 },
 "nbformat": 4,
 "nbformat_minor": 5
}
