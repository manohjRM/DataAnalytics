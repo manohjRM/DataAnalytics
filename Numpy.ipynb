{
 "cells": [
  {
   "cell_type": "code",
   "execution_count": 25,
   "id": "252791ac",
   "metadata": {},
   "outputs": [],
   "source": [
    "import numpy as np"
   ]
  },
  {
   "cell_type": "code",
   "execution_count": 26,
   "id": "ca365d09",
   "metadata": {},
   "outputs": [
    {
     "data": {
      "text/plain": [
       "array([[5, 5, 5],\n",
       "       [5, 5, 5],\n",
       "       [5, 5, 5]])"
      ]
     },
     "execution_count": 26,
     "metadata": {},
     "output_type": "execute_result"
    }
   ],
   "source": [
    "def solve(a,b,c):\n",
    "    arr1 = np.full((a,b),c)\n",
    "    return arr1\n",
    "solve(3,3,5)"
   ]
  },
  {
   "cell_type": "code",
   "execution_count": 27,
   "id": "52e2cf33",
   "metadata": {},
   "outputs": [
    {
     "data": {
      "text/plain": [
       "array([[17, 34],\n",
       "       [21, 31]])"
      ]
     },
     "execution_count": 27,
     "metadata": {},
     "output_type": "execute_result"
    }
   ],
   "source": [
    "def sum_arr(*arr):\n",
    "    ls = [*arr]\n",
    "    arr2 = [0]\n",
    "    for arr in ls:\n",
    "        arr2 = arr2+arr\n",
    "    return arr2\n",
    "\n",
    "x = np.array([[1,5],[1,6]])\n",
    "y = np.array([[5,9],[6,7]])\n",
    "z = np.array([[6,10],[8,9]])\n",
    "a = np.array([[5,10],[6,9]])\n",
    "\n",
    "sum_arr(x,y,z,a)"
   ]
  },
  {
   "cell_type": "code",
   "execution_count": 28,
   "id": "d9e11f84",
   "metadata": {},
   "outputs": [
    {
     "data": {
      "text/plain": [
       "array([[1, 2],\n",
       "       [4, 5]])"
      ]
     },
     "execution_count": 28,
     "metadata": {},
     "output_type": "execute_result"
    }
   ],
   "source": [
    "def slic(arr,n,m):\n",
    "    slic1 = arr[:n,:m]\n",
    "    return slic1\n",
    "x = np.array([[1,2,3],[4,5,6],[7,8,9]]) \n",
    "slic(x,2,2)"
   ]
  },
  {
   "cell_type": "code",
   "execution_count": 29,
   "id": "56928359",
   "metadata": {},
   "outputs": [
    {
     "data": {
      "text/plain": [
       "array([[5, 6],\n",
       "       [8, 9]])"
      ]
     },
     "execution_count": 29,
     "metadata": {},
     "output_type": "execute_result"
    }
   ],
   "source": [
    "def slic(arr,n,m):\n",
    "    slic1 = arr[n:,m:]\n",
    "    return slic1\n",
    "x = np.array([[1,2,3],[4,5,6],[7,8,9]]) \n",
    "slic(x,1,1)"
   ]
  },
  {
   "cell_type": "code",
   "execution_count": 30,
   "id": "23299fca",
   "metadata": {},
   "outputs": [
    {
     "data": {
      "text/plain": [
       "{'mean': 1.0, 'std_dev': 0.0}"
      ]
     },
     "execution_count": 30,
     "metadata": {},
     "output_type": "execute_result"
    }
   ],
   "source": [
    "def stat(a):\n",
    "    std_dev = np.std(a)\n",
    "    mean = np.mean(a)\n",
    "    dic = {\"mean\":mean,\"std_dev\":std_dev}\n",
    "    return dic\n",
    "x = [1,1,1]\n",
    "stat(x)"
   ]
  }
 ],
 "metadata": {
  "kernelspec": {
   "display_name": "Python 3",
   "language": "python",
   "name": "python3"
  },
  "language_info": {
   "codemirror_mode": {
    "name": "ipython",
    "version": 3
   },
   "file_extension": ".py",
   "mimetype": "text/x-python",
   "name": "python",
   "nbconvert_exporter": "python",
   "pygments_lexer": "ipython3",
   "version": "3.8.8"
  }
 },
 "nbformat": 4,
 "nbformat_minor": 5
}
