{
 "cells": [
  {
   "cell_type": "markdown",
   "id": "62420998",
   "metadata": {},
   "source": [
    "# Tuples"
   ]
  },
  {
   "cell_type": "code",
   "execution_count": 18,
   "id": "f1b070c0",
   "metadata": {},
   "outputs": [],
   "source": [
    "t1 = (10,20,30) #creating tuple\n",
    "t2 = (40,50,60)"
   ]
  },
  {
   "cell_type": "code",
   "execution_count": 19,
   "id": "d538819f",
   "metadata": {},
   "outputs": [
    {
     "name": "stdout",
     "output_type": "stream",
     "text": [
      "(10, 20, 30, 40, 50, 60, 10, 20, 30, 40, 50, 60, 10, 20, 30, 40, 50, 60)\n"
     ]
    }
   ],
   "source": [
    "t_combine = t1+t2 #combining tuples\n",
    "t_combine = t_combine*3 #repeating tuples 3 times\n",
    "print(t_combine) #printing final tuple"
   ]
  },
  {
   "cell_type": "code",
   "execution_count": 20,
   "id": "777f3c55",
   "metadata": {},
   "outputs": [
    {
     "data": {
      "text/plain": [
       "30"
      ]
     },
     "execution_count": 20,
     "metadata": {},
     "output_type": "execute_result"
    }
   ],
   "source": [
    "t_combine[2] #accessing 3rd element in tuple"
   ]
  },
  {
   "cell_type": "code",
   "execution_count": 21,
   "id": "da8a7655",
   "metadata": {},
   "outputs": [
    {
     "data": {
      "text/plain": [
       "(10, 20, 30)"
      ]
     },
     "execution_count": 21,
     "metadata": {},
     "output_type": "execute_result"
    }
   ],
   "source": [
    "t_combine[:3] #accessing first 3 elements in tuple"
   ]
  },
  {
   "cell_type": "code",
   "execution_count": 22,
   "id": "2b679faf",
   "metadata": {},
   "outputs": [
    {
     "data": {
      "text/plain": [
       "(40, 50, 60)"
      ]
     },
     "execution_count": 22,
     "metadata": {},
     "output_type": "execute_result"
    }
   ],
   "source": [
    "t_combine[-3:] #accessing last 3 elements in tuple"
   ]
  },
  {
   "cell_type": "markdown",
   "id": "5837ed29",
   "metadata": {},
   "source": [
    "# Lists"
   ]
  },
  {
   "cell_type": "code",
   "execution_count": 23,
   "id": "609023ce",
   "metadata": {},
   "outputs": [],
   "source": [
    "my_list = [(1,2,3),('a','b','c'),(True,False)] #creating lists with tuples"
   ]
  },
  {
   "cell_type": "code",
   "execution_count": 24,
   "id": "f6c283bd",
   "metadata": {},
   "outputs": [
    {
     "name": "stdout",
     "output_type": "stream",
     "text": [
      "[(1, 2, 3), ('a', 'b', 'c'), (True, False), (1, 'a', True)]\n"
     ]
    }
   ],
   "source": [
    "my_list.append((1,'a',True)) #appending new tuple to list\n",
    "print(my_list)"
   ]
  },
  {
   "cell_type": "code",
   "execution_count": 25,
   "id": "b65964b0",
   "metadata": {},
   "outputs": [
    {
     "name": "stdout",
     "output_type": "stream",
     "text": [
      "[(1, 2, 3), ('a', 'b', 'c'), (True, False), (1, 'a', True), ['sparta', 123]]\n"
     ]
    }
   ],
   "source": [
    "my_list.append(['sparta',123]) #appending new list to tuple\n",
    "print(my_list)"
   ]
  },
  {
   "cell_type": "markdown",
   "id": "731d6ebc",
   "metadata": {},
   "source": [
    "# Dictionary"
   ]
  },
  {
   "cell_type": "code",
   "execution_count": 27,
   "id": "6d939de5",
   "metadata": {},
   "outputs": [
    {
     "name": "stdout",
     "output_type": "stream",
     "text": [
      "{'Fruit': ('Apple', 'Banana', 'Mango', 'Guava'), 'Cost': (85, 54, 120, 70)}\n"
     ]
    }
   ],
   "source": [
    "fruit = {\"Fruit\":(\"Apple\",\"Banana\",\"Mango\",\"Guava\"),\"Cost\":(85,54,120,70)} #creating dictionary\n",
    "print(fruit)"
   ]
  },
  {
   "cell_type": "code",
   "execution_count": 38,
   "id": "4ffb49a9",
   "metadata": {},
   "outputs": [
    {
     "name": "stdout",
     "output_type": "stream",
     "text": [
      "dict_keys(['Fruit', 'Cost'])\n"
     ]
    }
   ],
   "source": [
    "print(fruit.keys()) #extracting keys from the dictionary"
   ]
  },
  {
   "cell_type": "code",
   "execution_count": 39,
   "id": "ff118834",
   "metadata": {},
   "outputs": [
    {
     "name": "stdout",
     "output_type": "stream",
     "text": [
      "dict_values([('Apple', 'Banana', 'Mango', 'Guava'), (85, 54, 120, 70)])\n"
     ]
    }
   ],
   "source": [
    "print(fruit.values()) #extracting values of the keys from dictionary"
   ]
  },
  {
   "cell_type": "markdown",
   "id": "68e3afc8",
   "metadata": {},
   "source": [
    "# Sets"
   ]
  },
  {
   "cell_type": "code",
   "execution_count": 40,
   "id": "cbadec7b",
   "metadata": {},
   "outputs": [
    {
     "name": "stdout",
     "output_type": "stream",
     "text": [
      "{1, 'a'}\n"
     ]
    }
   ],
   "source": [
    "my_set = {1,1,\"a\",\"a\",True,True} #creating set\n",
    "print(my_set)"
   ]
  }
 ],
 "metadata": {
  "kernelspec": {
   "display_name": "Python 3",
   "language": "python",
   "name": "python3"
  },
  "language_info": {
   "codemirror_mode": {
    "name": "ipython",
    "version": 3
   },
   "file_extension": ".py",
   "mimetype": "text/x-python",
   "name": "python",
   "nbconvert_exporter": "python",
   "pygments_lexer": "ipython3",
   "version": "3.8.8"
  }
 },
 "nbformat": 4,
 "nbformat_minor": 5
}
