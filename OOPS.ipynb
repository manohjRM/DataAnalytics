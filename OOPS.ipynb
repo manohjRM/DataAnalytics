{
 "cells": [
  {
   "cell_type": "code",
   "execution_count": 27,
   "id": "71040371",
   "metadata": {},
   "outputs": [
    {
     "name": "stdout",
     "output_type": "stream",
     "text": [
      "Name: Manoj, Salary: 22000\n"
     ]
    }
   ],
   "source": [
    "class Employee:\n",
    "    def __init__(self,name,salary):\n",
    "        self.name = name\n",
    "        self.salary = salary\n",
    "        \n",
    "    def __str__(self):\n",
    "        return 'Name: '+self.name+', Salary: '+self.salary\n",
    "    \n",
    "Manoj = Employee(\"Manoj\", \"22000\")\n",
    "print(Manoj)"
   ]
  },
  {
   "cell_type": "code",
   "execution_count": 34,
   "id": "4a8a76b1",
   "metadata": {},
   "outputs": [
    {
     "name": "stdout",
     "output_type": "stream",
     "text": [
      "Enter the first value: 650\n",
      "Enter the second value: 26\n",
      "The result is: 676\n",
      "The result is: 624\n",
      "The result is: 16900\n",
      "The result is: 25.0\n"
     ]
    }
   ],
   "source": [
    "class Calculator:\n",
    "    def __init__(self,a,b):\n",
    "        self.a = a\n",
    "        self.b = b\n",
    "        \n",
    "    def add(self):\n",
    "        print(\"The result is:\", end = \" \")\n",
    "        return self.a+self.b\n",
    "    def subtract(self):\n",
    "        print(\"The result is:\", end = \" \")\n",
    "        return self.a-self.b\n",
    "    def multiply(self):\n",
    "        print(\"The result is:\", end = \" \")\n",
    "        return self.a*self.b\n",
    "    def divide(self):\n",
    "        print(\"The result is:\", end = \" \")\n",
    "        return self.a/self.b\n",
    "\n",
    "x = int(input(\"Enter the first value: \"))    \n",
    "y = int(input(\"Enter the second value: \"))\n",
    "calc = Calculator(x,y)\n",
    "print(calc.add())\n",
    "print(calc.subtract())\n",
    "print(calc.multiply())\n",
    "print(calc.divide())"
   ]
  }
 ],
 "metadata": {
  "kernelspec": {
   "display_name": "Python 3",
   "language": "python",
   "name": "python3"
  },
  "language_info": {
   "codemirror_mode": {
    "name": "ipython",
    "version": 3
   },
   "file_extension": ".py",
   "mimetype": "text/x-python",
   "name": "python",
   "nbconvert_exporter": "python",
   "pygments_lexer": "ipython3",
   "version": "3.8.8"
  }
 },
 "nbformat": 4,
 "nbformat_minor": 5
}
