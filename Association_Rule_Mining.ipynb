{
 "cells": [
  {
   "cell_type": "code",
   "execution_count": 2,
   "id": "8afaa2c5",
   "metadata": {},
   "outputs": [],
   "source": [
    "import numpy as np\n",
    "import pandas as pd\n",
    "import matplotlib.pyplot as plt\n",
    "from apyori import apriori"
   ]
  },
  {
   "cell_type": "code",
   "execution_count": 3,
   "id": "c9f4d2ed",
   "metadata": {},
   "outputs": [
    {
     "data": {
      "text/html": [
       "<div>\n",
       "<style scoped>\n",
       "    .dataframe tbody tr th:only-of-type {\n",
       "        vertical-align: middle;\n",
       "    }\n",
       "\n",
       "    .dataframe tbody tr th {\n",
       "        vertical-align: top;\n",
       "    }\n",
       "\n",
       "    .dataframe thead th {\n",
       "        text-align: right;\n",
       "    }\n",
       "</style>\n",
       "<table border=\"1\" class=\"dataframe\">\n",
       "  <thead>\n",
       "    <tr style=\"text-align: right;\">\n",
       "      <th></th>\n",
       "      <th>Transactions from the Database</th>\n",
       "      <th>Unnamed: 1</th>\n",
       "      <th>Unnamed: 2</th>\n",
       "      <th>#Transactions in which\\n the item is bought</th>\n",
       "      <th>Support</th>\n",
       "      <th>Unnamed: 5</th>\n",
       "    </tr>\n",
       "  </thead>\n",
       "  <tbody>\n",
       "    <tr>\n",
       "      <th>0</th>\n",
       "      <td>1 : { Pencils, Markers, Highlighters, Papers}</td>\n",
       "      <td>NaN</td>\n",
       "      <td>Pencils</td>\n",
       "      <td>2</td>\n",
       "      <td>0.2</td>\n",
       "      <td>NaN</td>\n",
       "    </tr>\n",
       "    <tr>\n",
       "      <th>1</th>\n",
       "      <td>2 : {Markers, Erasers}</td>\n",
       "      <td>NaN</td>\n",
       "      <td>Markers</td>\n",
       "      <td>6</td>\n",
       "      <td>0.6</td>\n",
       "      <td>NaN</td>\n",
       "    </tr>\n",
       "    <tr>\n",
       "      <th>2</th>\n",
       "      <td>3 : {Stapler Pins, Papers, Erasers, Card Holde...</td>\n",
       "      <td>NaN</td>\n",
       "      <td>Highlighters</td>\n",
       "      <td>3</td>\n",
       "      <td>0.3</td>\n",
       "      <td>NaN</td>\n",
       "    </tr>\n",
       "    <tr>\n",
       "      <th>3</th>\n",
       "      <td>4 : {Papers, Erasers, Cad Holders}</td>\n",
       "      <td>NaN</td>\n",
       "      <td>Papers</td>\n",
       "      <td>4</td>\n",
       "      <td>0.4</td>\n",
       "      <td>NaN</td>\n",
       "    </tr>\n",
       "    <tr>\n",
       "      <th>4</th>\n",
       "      <td>5 : {Markers, Post-it, Erasers}</td>\n",
       "      <td>NaN</td>\n",
       "      <td>Erasers</td>\n",
       "      <td>7</td>\n",
       "      <td>0.7</td>\n",
       "      <td>NaN</td>\n",
       "    </tr>\n",
       "  </tbody>\n",
       "</table>\n",
       "</div>"
      ],
      "text/plain": [
       "                      Transactions from the Database  Unnamed: 1  \\\n",
       "0      1 : { Pencils, Markers, Highlighters, Papers}         NaN   \n",
       "1                             2 : {Markers, Erasers}         NaN   \n",
       "2  3 : {Stapler Pins, Papers, Erasers, Card Holde...         NaN   \n",
       "3                 4 : {Papers, Erasers, Cad Holders}         NaN   \n",
       "4                    5 : {Markers, Post-it, Erasers}         NaN   \n",
       "\n",
       "     Unnamed: 2 #Transactions in which\\n the item is bought Support Unnamed: 5  \n",
       "0       Pencils                                           2     0.2        NaN  \n",
       "1       Markers                                           6     0.6        NaN  \n",
       "2  Highlighters                                           3     0.3        NaN  \n",
       "3        Papers                                           4     0.4        NaN  \n",
       "4       Erasers                                           7     0.7        NaN  "
      ]
     },
     "execution_count": 3,
     "metadata": {},
     "output_type": "execute_result"
    }
   ],
   "source": [
    "retail = pd.read_csv('Retail.csv',header=1)\n",
    "retail.head()"
   ]
  },
  {
   "cell_type": "code",
   "execution_count": 4,
   "id": "50f2762d",
   "metadata": {},
   "outputs": [],
   "source": [
    "retail = retail.drop(['Unnamed: 1','Unnamed: 5'], axis=1)"
   ]
  },
  {
   "cell_type": "code",
   "execution_count": 5,
   "id": "59e1cbf1",
   "metadata": {},
   "outputs": [
    {
     "data": {
      "text/html": [
       "<div>\n",
       "<style scoped>\n",
       "    .dataframe tbody tr th:only-of-type {\n",
       "        vertical-align: middle;\n",
       "    }\n",
       "\n",
       "    .dataframe tbody tr th {\n",
       "        vertical-align: top;\n",
       "    }\n",
       "\n",
       "    .dataframe thead th {\n",
       "        text-align: right;\n",
       "    }\n",
       "</style>\n",
       "<table border=\"1\" class=\"dataframe\">\n",
       "  <thead>\n",
       "    <tr style=\"text-align: right;\">\n",
       "      <th></th>\n",
       "      <th>Transactions from the Database</th>\n",
       "      <th>Unnamed: 2</th>\n",
       "      <th>#Transactions in which\\n the item is bought</th>\n",
       "      <th>Support</th>\n",
       "    </tr>\n",
       "  </thead>\n",
       "  <tbody>\n",
       "    <tr>\n",
       "      <th>0</th>\n",
       "      <td>1 : { Pencils, Markers, Highlighters, Papers}</td>\n",
       "      <td>Pencils</td>\n",
       "      <td>2</td>\n",
       "      <td>0.2</td>\n",
       "    </tr>\n",
       "    <tr>\n",
       "      <th>1</th>\n",
       "      <td>2 : {Markers, Erasers}</td>\n",
       "      <td>Markers</td>\n",
       "      <td>6</td>\n",
       "      <td>0.6</td>\n",
       "    </tr>\n",
       "    <tr>\n",
       "      <th>2</th>\n",
       "      <td>3 : {Stapler Pins, Papers, Erasers, Card Holde...</td>\n",
       "      <td>Highlighters</td>\n",
       "      <td>3</td>\n",
       "      <td>0.3</td>\n",
       "    </tr>\n",
       "    <tr>\n",
       "      <th>3</th>\n",
       "      <td>4 : {Papers, Erasers, Cad Holders}</td>\n",
       "      <td>Papers</td>\n",
       "      <td>4</td>\n",
       "      <td>0.4</td>\n",
       "    </tr>\n",
       "    <tr>\n",
       "      <th>4</th>\n",
       "      <td>5 : {Markers, Post-it, Erasers}</td>\n",
       "      <td>Erasers</td>\n",
       "      <td>7</td>\n",
       "      <td>0.7</td>\n",
       "    </tr>\n",
       "  </tbody>\n",
       "</table>\n",
       "</div>"
      ],
      "text/plain": [
       "                      Transactions from the Database    Unnamed: 2  \\\n",
       "0      1 : { Pencils, Markers, Highlighters, Papers}       Pencils   \n",
       "1                             2 : {Markers, Erasers}       Markers   \n",
       "2  3 : {Stapler Pins, Papers, Erasers, Card Holde...  Highlighters   \n",
       "3                 4 : {Papers, Erasers, Cad Holders}        Papers   \n",
       "4                    5 : {Markers, Post-it, Erasers}       Erasers   \n",
       "\n",
       "  #Transactions in which\\n the item is bought Support  \n",
       "0                                           2     0.2  \n",
       "1                                           6     0.6  \n",
       "2                                           3     0.3  \n",
       "3                                           4     0.4  \n",
       "4                                           7     0.7  "
      ]
     },
     "execution_count": 5,
     "metadata": {},
     "output_type": "execute_result"
    }
   ],
   "source": [
    "retail.head()"
   ]
  },
  {
   "cell_type": "code",
   "execution_count": 6,
   "id": "ad19bc2c",
   "metadata": {},
   "outputs": [
    {
     "data": {
      "text/plain": [
       "(17, 4)"
      ]
     },
     "execution_count": 6,
     "metadata": {},
     "output_type": "execute_result"
    }
   ],
   "source": [
    "retail.shape"
   ]
  },
  {
   "cell_type": "code",
   "execution_count": 8,
   "id": "7271684c",
   "metadata": {},
   "outputs": [],
   "source": [
    "records = []\n",
    "for i in range(0,17):\n",
    "    records.append([str(retail.values[i,j]) for j in range(0,4)])"
   ]
  },
  {
   "cell_type": "code",
   "execution_count": 9,
   "id": "2fc9696c",
   "metadata": {},
   "outputs": [
    {
     "data": {
      "text/plain": [
       "['1 : { Pencils, Markers, Highlighters, Papers}', 'Pencils', '2', '0.2']"
      ]
     },
     "execution_count": 9,
     "metadata": {},
     "output_type": "execute_result"
    }
   ],
   "source": [
    "records[0]"
   ]
  },
  {
   "cell_type": "code",
   "execution_count": 10,
   "id": "2cca5b2a",
   "metadata": {},
   "outputs": [],
   "source": [
    "association_rules = apriori(records,min_support=0.0055 , min_confidence = 0.2 ,min_lift = 3,min_length = 2)\n",
    "association_results = list(association_rules)"
   ]
  },
  {
   "cell_type": "code",
   "execution_count": 11,
   "id": "7c79ba8b",
   "metadata": {},
   "outputs": [
    {
     "name": "stdout",
     "output_type": "stream",
     "text": [
      "113\n"
     ]
    }
   ],
   "source": [
    "print(len(association_results))"
   ]
  },
  {
   "cell_type": "code",
   "execution_count": 12,
   "id": "66b2de52",
   "metadata": {},
   "outputs": [
    {
     "name": "stdout",
     "output_type": "stream",
     "text": [
      "RelationRecord(items=frozenset({'#Transactions in which\\n the item is bought', 'Construct item-sets with items that satisfy minimum support'}), support=0.058823529411764705, ordered_statistics=[OrderedStatistic(items_base=frozenset({'#Transactions in which\\n the item is bought'}), items_add=frozenset({'Construct item-sets with items that satisfy minimum support'}), confidence=1.0, lift=17.0), OrderedStatistic(items_base=frozenset({'Construct item-sets with items that satisfy minimum support'}), items_add=frozenset({'#Transactions in which\\n the item is bought'}), confidence=1.0, lift=17.0)])\n"
     ]
    }
   ],
   "source": [
    "print(association_results[0])"
   ]
  },
  {
   "cell_type": "code",
   "execution_count": 13,
   "id": "042dd2da",
   "metadata": {},
   "outputs": [
    {
     "name": "stdout",
     "output_type": "stream",
     "text": [
      "RelationRecord(items=frozenset({'#Transactions in which\\n the item is bought', 'Support\\nP(Markers�Erasers)'}), support=0.058823529411764705, ordered_statistics=[OrderedStatistic(items_base=frozenset({'#Transactions in which\\n the item is bought'}), items_add=frozenset({'Support\\nP(Markers�Erasers)'}), confidence=1.0, lift=17.0), OrderedStatistic(items_base=frozenset({'Support\\nP(Markers�Erasers)'}), items_add=frozenset({'#Transactions in which\\n the item is bought'}), confidence=1.0, lift=17.0)])\n"
     ]
    }
   ],
   "source": [
    "print(association_results[1])"
   ]
  },
  {
   "cell_type": "code",
   "execution_count": null,
   "id": "27a93ac8",
   "metadata": {},
   "outputs": [],
   "source": []
  }
 ],
 "metadata": {
  "kernelspec": {
   "display_name": "Python 3",
   "language": "python",
   "name": "python3"
  },
  "language_info": {
   "codemirror_mode": {
    "name": "ipython",
    "version": 3
   },
   "file_extension": ".py",
   "mimetype": "text/x-python",
   "name": "python",
   "nbconvert_exporter": "python",
   "pygments_lexer": "ipython3",
   "version": "3.8.8"
  }
 },
 "nbformat": 4,
 "nbformat_minor": 5
}
