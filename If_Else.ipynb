{
 "cells": [
  {
   "cell_type": "markdown",
   "metadata": {
    "id": "lAv1iZOTBnYE"
   },
   "source": [
    "# If_Else"
   ]
  },
  {
   "cell_type": "code",
   "execution_count": 1,
   "metadata": {},
   "outputs": [
    {
     "name": "stdout",
     "output_type": "stream",
     "text": [
      "Give the first number: 10\n",
      "Give the second number: 20\n"
     ]
    }
   ],
   "source": [
    "#Getting two number for a and b\n",
    "\n",
    "a=int(input(\"Give the first number: \"))\n",
    "b=int(input(\"Give the second number: \"))"
   ]
  },
  {
   "cell_type": "code",
   "execution_count": 2,
   "metadata": {
    "colab": {
     "base_uri": "https://localhost:8080/"
    },
    "id": "HtUnWem3B6Zt",
    "outputId": "3b96a281-874d-465f-aecc-a134623cb7a5"
   },
   "outputs": [
    {
     "name": "stdout",
     "output_type": "stream",
     "text": [
      "Value in 'b' is greater\n"
     ]
    }
   ],
   "source": [
    "#printing the which variable's value is greater using if_else\n",
    "\n",
    "if a<b:\n",
    "  print(\"Value in 'b' is greater\")\n",
    "elif a==b:\n",
    "  print(\"Value in 'a' and 'b' are same\")\n",
    "else:\n",
    "  print(\"Value in 'a' is greater\")"
   ]
  },
  {
   "cell_type": "code",
   "execution_count": 3,
   "metadata": {
    "colab": {
     "base_uri": "https://localhost:8080/"
    },
    "id": "FNnqAz0KDT97",
    "outputId": "1f215df1-acec-43ff-bb3e-e4eb13618a18"
   },
   "outputs": [
    {
     "name": "stdout",
     "output_type": "stream",
     "text": [
      "Enter the first values 'a': 10\n",
      "Enter the second values 'b': 20\n",
      "Enter the third values 'c': 20\n",
      "Value in 'b' and 'c' are same and greatest, the number is,  20\n"
     ]
    }
   ],
   "source": [
    "#printing which value is greater among the 3 given values using if_else\n",
    "\n",
    "a = int(input(\"Enter the first values 'a': \"))\n",
    "b = int(input(\"Enter the second values 'b': \"))\n",
    "c = int(input(\"Enter the third values 'c': \"))\n",
    "\n",
    "if a<b:\n",
    "  if b<c:\n",
    "    print(\"Value in 'c' is greatest, the number is, \",c)\n",
    "  elif b==c:\n",
    "    print(\"Value in 'b' and 'c' are same and greatest, the number is, \",c)\n",
    "  else:\n",
    "    print(\"Value in 'b' is greatest, the number is, \",b)\n",
    "elif a==b:\n",
    "  if c > a:\n",
    "    print(\"Value in 'c' is greatest, the number is, \",c)\n",
    "  elif a==c:\n",
    "    print(\"All values are same, the number is, \",c)\n",
    "  else:\n",
    "    print(\"Value in 'a' and 'b' are greatest and same, the number is, \",a)\n",
    "elif a==c:\n",
    "  print(\"Value in 'a' and 'c' are same and greatest, the number is, \",c)\n",
    "else:\n",
    "  print(\"Value in 'a' is greatest, the number is, \",a)"
   ]
  }
 ],
 "metadata": {
  "colab": {
   "collapsed_sections": [],
   "name": "If-Else_Assignment.ipynb",
   "provenance": []
  },
  "kernelspec": {
   "display_name": "Python 3",
   "language": "python",
   "name": "python3"
  },
  "language_info": {
   "codemirror_mode": {
    "name": "ipython",
    "version": 3
   },
   "file_extension": ".py",
   "mimetype": "text/x-python",
   "name": "python",
   "nbconvert_exporter": "python",
   "pygments_lexer": "ipython3",
   "version": "3.8.8"
  }
 },
 "nbformat": 4,
 "nbformat_minor": 1
}
