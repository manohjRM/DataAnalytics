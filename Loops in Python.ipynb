{
 "cells": [
  {
   "cell_type": "markdown",
   "id": "1a5309e9",
   "metadata": {},
   "source": [
    "# Loops"
   ]
  },
  {
   "cell_type": "code",
   "execution_count": 1,
   "id": "868daff8",
   "metadata": {},
   "outputs": [
    {
     "name": "stdout",
     "output_type": "stream",
     "text": [
      "1\n",
      "2\n",
      "3\n",
      "4\n",
      "5\n",
      "6\n",
      "7\n",
      "8\n",
      "9\n",
      "10\n"
     ]
    }
   ],
   "source": [
    "#while loop to print numbers from 1 to 10\n",
    "num = 0\n",
    "while num<10:\n",
    "  num+=1\n",
    "  print(num)"
   ]
  },
  {
   "cell_type": "code",
   "execution_count": 2,
   "id": "567ac0d1",
   "metadata": {},
   "outputs": [
    {
     "name": "stdout",
     "output_type": "stream",
     "text": [
      "The Even numbers in the list are:\n",
      "10\n",
      "4\n",
      "26\n",
      "4\n",
      "24\n",
      "54\n"
     ]
    }
   ],
   "source": [
    "#while loop to print only even numbers in the given list\n",
    "list1 = [10,23,4,26,4,75,24,54]\n",
    "a=0\n",
    "b=int(len(list1))\n",
    "print(\"The Even numbers in the list are:\")\n",
    "while a<b:\n",
    "  num = list1[a]%2\n",
    "  if num == 0:\n",
    "    print(list1[a])\n",
    "  a+=1"
   ]
  },
  {
   "cell_type": "code",
   "execution_count": 3,
   "id": "99d84962",
   "metadata": {},
   "outputs": [
    {
     "name": "stdout",
     "output_type": "stream",
     "text": [
      "Enter the number: 6\n",
      "1 x 6 = 6\n",
      "2 x 6 = 12\n",
      "3 x 6 = 18\n",
      "4 x 6 = 24\n",
      "5 x 6 = 30\n",
      "6 x 6 = 36\n",
      "7 x 6 = 42\n",
      "8 x 6 = 48\n",
      "9 x 6 = 54\n",
      "10 x 6 = 60\n"
     ]
    }
   ],
   "source": [
    "#while loop to print the given number's multiplication table\n",
    "num = int(input(\"Enter the number: \"))\n",
    "for a in range(1,11):\n",
    "  mul = a*num\n",
    "  print(a,\"x\",num,\"=\",mul)"
   ]
  }
 ],
 "metadata": {
  "kernelspec": {
   "display_name": "Python 3",
   "language": "python",
   "name": "python3"
  },
  "language_info": {
   "codemirror_mode": {
    "name": "ipython",
    "version": 3
   },
   "file_extension": ".py",
   "mimetype": "text/x-python",
   "name": "python",
   "nbconvert_exporter": "python",
   "pygments_lexer": "ipython3",
   "version": "3.8.8"
  }
 },
 "nbformat": 4,
 "nbformat_minor": 5
}
